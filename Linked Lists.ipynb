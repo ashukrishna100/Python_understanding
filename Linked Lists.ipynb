{
 "cells": [
  {
   "cell_type": "markdown",
   "metadata": {},
   "source": [
    "Algorithm- How to sequentially accomplish a task\n",
    "\n",
    "Recipes or programs(steps in sequence)\n",
    "\n",
    "arrange and optimize"
   ]
  },
  {
   "cell_type": "code",
   "execution_count": 18,
   "metadata": {},
   "outputs": [],
   "source": [
    "##GCD\n",
    "\n",
    "def gcd(num1,num2):\n",
    "    factor_num1 = [x for x in range(1,num1+1) if num1%x==0]\n",
    "    factor_num2 = [x for x in range(1,num2+1) if num2%x==0]\n",
    "    common_factors = [val for val in factor_num1 if val in factor_num2]\n",
    "    return(max(common_factors))"
   ]
  },
  {
   "cell_type": "code",
   "execution_count": 23,
   "metadata": {},
   "outputs": [
    {
     "data": {
      "text/plain": [
       "50"
      ]
     },
     "execution_count": 23,
     "metadata": {},
     "output_type": "execute_result"
    }
   ],
   "source": [
    "gcd(150,350)"
   ]
  },
  {
   "cell_type": "markdown",
   "metadata": {},
   "source": [
    "### Linked List"
   ]
  },
  {
   "cell_type": "markdown",
   "metadata": {},
   "source": [
    "A linked list consists of nodes\n",
    "\n",
    "Each node consists of a value and a pointer to another node\n",
    "\n",
    "The starting node of a linked list is referred to as the header\n",
    "\n",
    "starting node is called \"Header\"\n",
    "\n",
    "It is dynamic whereas array is fixed. Memory issue can also be resolved."
   ]
  },
  {
   "cell_type": "code",
   "execution_count": null,
   "metadata": {},
   "outputs": [],
   "source": [
    "## how to store 6,3,2,7\n",
    "\n",
    "## array: a big box with equal partitions(6,3,2,7)\n",
    "\n",
    "## linkedlist : every elemnt has a small box connected to other element((6)-->(3)-->(2)-->(7))\n",
    "\n",
    "# head.data = 6\n",
    "# head.next.data = 3\n",
    "# head.next.next.data = 2\n",
    "## unidirectional(from left to right)"
   ]
  },
  {
   "cell_type": "markdown",
   "metadata": {},
   "source": [
    "#### Q. create a linkedlist of 6,3,4,2,1,8 ?"
   ]
  },
  {
   "cell_type": "code",
   "execution_count": 95,
   "metadata": {},
   "outputs": [
    {
     "name": "stdout",
     "output_type": "stream",
     "text": [
      "[<__main__.Node object at 0x000001F778FD5F98>, <__main__.Node object at 0x000001F778FD5FD0>, <__main__.Node object at 0x000001F778FD5F28>, <__main__.Node object at 0x000001F778E92C88>, <__main__.Node object at 0x000001F778FC3EF0>]\n"
     ]
    },
    {
     "ename": "AttributeError",
     "evalue": "'NoneType' object has no attribute 'data'",
     "output_type": "error",
     "traceback": [
      "\u001b[1;31m---------------------------------------------------------------------------\u001b[0m",
      "\u001b[1;31mAttributeError\u001b[0m                            Traceback (most recent call last)",
      "\u001b[1;32m<ipython-input-95-49d2fc64da9a>\u001b[0m in \u001b[0;36m<module>\u001b[1;34m\u001b[0m\n\u001b[0;32m     32\u001b[0m \u001b[1;33m\u001b[0m\u001b[0m\n\u001b[0;32m     33\u001b[0m \u001b[0ma\u001b[0m \u001b[1;33m=\u001b[0m \u001b[0mLinkedList\u001b[0m\u001b[1;33m(\u001b[0m\u001b[1;36m6\u001b[0m\u001b[1;33m,\u001b[0m\u001b[1;36m3\u001b[0m\u001b[1;33m,\u001b[0m\u001b[1;36m2\u001b[0m\u001b[1;33m,\u001b[0m\u001b[1;36m1\u001b[0m\u001b[1;33m,\u001b[0m\u001b[1;36m5\u001b[0m\u001b[1;33m)\u001b[0m\u001b[1;33m\u001b[0m\u001b[1;33m\u001b[0m\u001b[0m\n\u001b[1;32m---> 34\u001b[1;33m \u001b[0ma\u001b[0m\u001b[1;33m.\u001b[0m\u001b[0mdefine_node\u001b[0m\u001b[1;33m(\u001b[0m\u001b[1;33m)\u001b[0m\u001b[1;33m.\u001b[0m\u001b[0mdata\u001b[0m\u001b[1;33m\u001b[0m\u001b[1;33m\u001b[0m\u001b[0m\n\u001b[0m",
      "\u001b[1;31mAttributeError\u001b[0m: 'NoneType' object has no attribute 'data'"
     ]
    }
   ],
   "source": [
    "class Node(object):\n",
    "    \n",
    "    def __init__(self,data):\n",
    "        self.data = data\n",
    "        self.next = None\n",
    "        \n",
    "class LinkedList(object):\n",
    "    \n",
    "    def __init__(self,*args):\n",
    "        self.args = args\n",
    "    \n",
    "    def create_Node(self):\n",
    "        count = 0\n",
    "        nodeNames = [\"node_\"+str(x) for x in range(len(self.args))]\n",
    "        for i in range(len(self.args)):\n",
    "            nodeNames[i] = Node(self.args[i])\n",
    "            count += 1\n",
    "        return nodeNames\n",
    "    \n",
    "    def define_node(self):\n",
    "        nodeNames = self.create_Node()\n",
    "        for k in range(len(nodeNames)-1):\n",
    "            nodeNames[k].next = nodeNames[k+1] \n",
    "        print(nodeNames)\n",
    "    def count_nodes(self,current):\n",
    "        # assuming that current != None\n",
    "        count = 1\n",
    "        while current.next is not None:\n",
    "            current = current.next\n",
    "            count += 1\n",
    "        return count\n",
    "\n",
    "a = LinkedList(6,3,2,1,5)\n",
    "a.define_node()\n"
   ]
  },
  {
   "cell_type": "code",
   "execution_count": 101,
   "metadata": {},
   "outputs": [
    {
     "name": "stdout",
     "output_type": "stream",
     "text": [
      "6\n",
      "3\n",
      "4\n",
      "2\n",
      "1\n",
      "8\n"
     ]
    }
   ],
   "source": [
    "class Node(object):\n",
    "    \n",
    "    def __init__(self,data):\n",
    "        self.data = data\n",
    "        self.next = None\n",
    "        \n",
    "class SingleLinkedList(object):\n",
    "    def __init__(self):\n",
    "        self.head = None\n",
    "        self.tail = None\n",
    "        \n",
    "    def begining(self,newData):\n",
    "        newNode = Node(newData)\n",
    "        \n",
    "        ## update newNode value\n",
    "        newNode.next = self.head\n",
    "        self.head = newNode\n",
    "\n",
    "linked_list = SingleLinkedList()\n",
    "\n",
    "linked_list.head = Node(6)\n",
    "linked_list.head.next = Node(3)\n",
    "linked_list.head.next.next = Node(4)\n",
    "linked_list.head.next.next.next = Node(2)\n",
    "linked_list.head.next.next.next.next = Node(1)\n",
    "linked_list.head.next.next.next.next.next = Node(8)\n",
    "\n",
    "node = linked_list.head\n",
    "\n",
    "while node:\n",
    "    print(node.data)\n",
    "    node = node.next"
   ]
  },
  {
   "cell_type": "code",
   "execution_count": 102,
   "metadata": {},
   "outputs": [
    {
     "name": "stdout",
     "output_type": "stream",
     "text": [
      "100\n",
      "6\n",
      "3\n",
      "4\n",
      "2\n",
      "1\n",
      "8\n"
     ]
    }
   ],
   "source": [
    "## insert at the beginning of the linkedlist\n",
    "linked_list.begining(100)\n",
    "\n",
    "node = linked_list.head\n",
    "\n",
    "while node:\n",
    "    print(node.data)\n",
    "    node = node.next"
   ]
  },
  {
   "cell_type": "markdown",
   "metadata": {},
   "source": [
    "### DoublyLinkedList\n"
   ]
  },
  {
   "cell_type": "code",
   "execution_count": 106,
   "metadata": {},
   "outputs": [],
   "source": [
    "class DoubleNode(object):\n",
    "    \n",
    "    def __init__(self, data):\n",
    "        self.data = data\n",
    "        self.next = None\n",
    "        self.prev = None"
   ]
  },
  {
   "cell_type": "code",
   "execution_count": 108,
   "metadata": {},
   "outputs": [],
   "source": [
    "a = DoubleNode(15)\n",
    "b = DoubleNode(10)\n",
    "c = DoubleNode(25)"
   ]
  },
  {
   "cell_type": "code",
   "execution_count": 109,
   "metadata": {},
   "outputs": [],
   "source": [
    "a.next = b\n",
    "b.prev = a"
   ]
  },
  {
   "cell_type": "code",
   "execution_count": 110,
   "metadata": {},
   "outputs": [],
   "source": [
    "b.next = c\n",
    "c.prev = b"
   ]
  },
  {
   "cell_type": "code",
   "execution_count": 113,
   "metadata": {},
   "outputs": [
    {
     "name": "stdout",
     "output_type": "stream",
     "text": [
      "25\n",
      "10\n",
      "15\n"
     ]
    }
   ],
   "source": [
    "while c:\n",
    "    print(c.data)\n",
    "    c = c.prev"
   ]
  },
  {
   "cell_type": "code",
   "execution_count": 129,
   "metadata": {},
   "outputs": [
    {
     "name": "stdout",
     "output_type": "stream",
     "text": [
      "5\n",
      "8\n",
      "10\n"
     ]
    }
   ],
   "source": [
    "### using double linked list class\n",
    "\n",
    "class DoubleLinkedList(object):\n",
    "    \n",
    "    def __init__(self):\n",
    "        self.head = None\n",
    "        self.tail = None\n",
    "        \n",
    "obj1 = DoubleLinkedList()\n",
    "\n",
    "obj1.head = Node(5)\n",
    "obj1.head.next = Node(8)\n",
    "obj1.head.next.next = Node(10)\n",
    "\n",
    "obj1.tail = Node(10)\n",
    "obj1.tail.prev = Node(8)\n",
    "obj1.tail.prev.prev = Node(5)\n",
    "\n",
    "while obj1.head:\n",
    "    print(obj1.head.data)\n",
    "    obj1.head = obj1.head.next"
   ]
  },
  {
   "cell_type": "code",
   "execution_count": 130,
   "metadata": {},
   "outputs": [
    {
     "name": "stdout",
     "output_type": "stream",
     "text": [
      "10\n",
      "8\n",
      "5\n"
     ]
    }
   ],
   "source": [
    "tail1 = obj1.tail\n",
    "while tail1:\n",
    "    print(tail1.data)\n",
    "    tail1 = tail1.prev"
   ]
  },
  {
   "cell_type": "markdown",
   "metadata": {},
   "source": [
    "## Cyclic linked list"
   ]
  },
  {
   "cell_type": "code",
   "execution_count": 5,
   "metadata": {},
   "outputs": [
    {
     "name": "stdout",
     "output_type": "stream",
     "text": [
      "100\n"
     ]
    }
   ],
   "source": [
    "class CyclicNode(object):\n",
    "    \n",
    "    def __init__(self,value):\n",
    "        self.value = value\n",
    "        self.next = None\n",
    "        \n",
    "a = CyclicNode(100)\n",
    "b = CyclicNode(200)\n",
    "c = CyclicNode(300)\n",
    "\n",
    "a.next = b\n",
    "b.next = c\n",
    "c.next = a  ## cyclic\n",
    "\n",
    "print(c.next.value)"
   ]
  },
  {
   "cell_type": "markdown",
   "metadata": {},
   "source": [
    "## Reverse a linked list"
   ]
  },
  {
   "cell_type": "markdown",
   "metadata": {},
   "source": [
    "#### Reverse the headnode"
   ]
  },
  {
   "cell_type": "code",
   "execution_count": 52,
   "metadata": {},
   "outputs": [
    {
     "name": "stdout",
     "output_type": "stream",
     "text": [
      "10\n",
      "20\n",
      "30\n",
      "40\n"
     ]
    }
   ],
   "source": [
    "class Node(object):\n",
    "    \n",
    "    def __init__(self,value):\n",
    "        self.value = value\n",
    "        self.next = None\n",
    "        \n",
    "a = Node(10)\n",
    "b = Node(20)\n",
    "c = Node(30)\n",
    "d = Node(40)\n",
    "\n",
    "a.next = b\n",
    "b.next = c\n",
    "c.next = d\n",
    "\n",
    "while a:\n",
    "    print(a.value)\n",
    "    a = a.next"
   ]
  },
  {
   "cell_type": "markdown",
   "metadata": {},
   "source": [
    "#### write a function to reverse the above linked list"
   ]
  },
  {
   "cell_type": "code",
   "execution_count": 48,
   "metadata": {},
   "outputs": [
    {
     "name": "stdout",
     "output_type": "stream",
     "text": [
      "10\n",
      "20\n",
      "30\n",
      "40\n"
     ]
    }
   ],
   "source": []
  },
  {
   "cell_type": "code",
   "execution_count": null,
   "metadata": {},
   "outputs": [],
   "source": []
  }
 ],
 "metadata": {
  "kernelspec": {
   "display_name": "Python 3",
   "language": "python",
   "name": "python3"
  },
  "language_info": {
   "codemirror_mode": {
    "name": "ipython",
    "version": 3
   },
   "file_extension": ".py",
   "mimetype": "text/x-python",
   "name": "python",
   "nbconvert_exporter": "python",
   "pygments_lexer": "ipython3",
   "version": "3.7.1"
  }
 },
 "nbformat": 4,
 "nbformat_minor": 2
}
