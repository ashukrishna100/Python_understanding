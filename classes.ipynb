{
 "cells": [
  {
   "cell_type": "markdown",
   "metadata": {},
   "source": [
    "### classes provide standard way of describing data and procedures. useful in editing and reusability.\n",
    "\n",
    "methods(function associated with class)\n",
    "\n",
    "attributes(data in class)"
   ]
  },
  {
   "cell_type": "markdown",
   "metadata": {},
   "source": [
    "#### 1.) Instance variable"
   ]
  },
  {
   "cell_type": "code",
   "execution_count": 1,
   "metadata": {},
   "outputs": [],
   "source": [
    "### __init__ is constructor"
   ]
  },
  {
   "cell_type": "code",
   "execution_count": 14,
   "metadata": {},
   "outputs": [
    {
     "name": "stdout",
     "output_type": "stream",
     "text": [
      "<__main__.watch object at 0x000002C612E2DB70>\n",
      "4000\n",
      "9000\n",
      "titan\n",
      "the watch titan costs 1000 rupess\n"
     ]
    }
   ],
   "source": [
    "## where self is the instance argument\n",
    "class watch(object):\n",
    "    \n",
    "    ##__init__ is parametrized constructor\n",
    "    \n",
    "    def __init__(self,brand,price):\n",
    "        self.brand = brand\n",
    "        self.price = price\n",
    "        self.on = False\n",
    "    # accessing methods using self, self is the key\n",
    "    # regular/instance method\n",
    "    def details(self):\n",
    "        return (\"the watch {0} costs {1} rupess\".format(self.brand,self.price))\n",
    "        \n",
    "obj1 = watch(\"casio\",4000)    # instance of watch class\n",
    "\n",
    "print(obj1)   ## gives class name i.e instance of watch class\n",
    "print(obj1.price)\n",
    "\n",
    "# edit attributes of class \"watch\" from instance\n",
    "obj1.price = 9000\n",
    "print(obj1.price)\n",
    "\n",
    "obj2 = watch(\"titan\",1000)  # instance variable of watch class\n",
    "print(obj2.brand)\n",
    "\n",
    "print(obj2.details())\n"
   ]
  },
  {
   "cell_type": "code",
   "execution_count": 15,
   "metadata": {},
   "outputs": [
    {
     "data": {
      "text/plain": [
       "'the watch casio costs 9000 rupess'"
      ]
     },
     "execution_count": 15,
     "metadata": {},
     "output_type": "execute_result"
    }
   ],
   "source": [
    "## running methods directly using class at some instance, obj1\n",
    "\n",
    "watch.details(obj1)"
   ]
  },
  {
   "cell_type": "markdown",
   "metadata": {},
   "source": [
    "Directly assigning attributes to a class and instance from outside the template"
   ]
  },
  {
   "cell_type": "code",
   "execution_count": 16,
   "metadata": {},
   "outputs": [
    {
     "name": "stdout",
     "output_type": "stream",
     "text": [
      "the watch store\n"
     ]
    },
    {
     "ename": "AttributeError",
     "evalue": "'watch' object has no attribute 'shop'",
     "output_type": "error",
     "traceback": [
      "\u001b[1;31m---------------------------------------------------------------------------\u001b[0m",
      "\u001b[1;31mAttributeError\u001b[0m                            Traceback (most recent call last)",
      "\u001b[1;32m<ipython-input-16-0a8e4d4beee7>\u001b[0m in \u001b[0;36m<module>\u001b[1;34m\u001b[0m\n\u001b[0;32m      1\u001b[0m \u001b[0mobj1\u001b[0m\u001b[1;33m.\u001b[0m\u001b[0mshop\u001b[0m \u001b[1;33m=\u001b[0m \u001b[1;34m\"the watch store\"\u001b[0m\u001b[1;33m\u001b[0m\u001b[1;33m\u001b[0m\u001b[0m\n\u001b[0;32m      2\u001b[0m \u001b[0mprint\u001b[0m\u001b[1;33m(\u001b[0m\u001b[0mobj1\u001b[0m\u001b[1;33m.\u001b[0m\u001b[0mshop\u001b[0m\u001b[1;33m)\u001b[0m\u001b[1;33m\u001b[0m\u001b[1;33m\u001b[0m\u001b[0m\n\u001b[1;32m----> 3\u001b[1;33m \u001b[0mprint\u001b[0m\u001b[1;33m(\u001b[0m\u001b[0mobj2\u001b[0m\u001b[1;33m.\u001b[0m\u001b[0mshop\u001b[0m\u001b[1;33m)\u001b[0m     \u001b[1;31m## the value is not assigned to the instance obj2\u001b[0m\u001b[1;33m\u001b[0m\u001b[1;33m\u001b[0m\u001b[0m\n\u001b[0m",
      "\u001b[1;31mAttributeError\u001b[0m: 'watch' object has no attribute 'shop'"
     ]
    }
   ],
   "source": [
    "obj1.shop = \"the watch store\"\n",
    "print(obj1.shop)\n",
    "print(obj2.shop)     ## the value is not assigned to the instance obj2"
   ]
  },
  {
   "cell_type": "code",
   "execution_count": 18,
   "metadata": {},
   "outputs": [
    {
     "name": "stdout",
     "output_type": "stream",
     "text": [
      "the watch store\n",
      "titan shop\n"
     ]
    }
   ],
   "source": [
    "## assign attributes to the whole class\n",
    "watch.shop = \"titan shop\"\n",
    "print(obj1.shop)\n",
    "print(obj2.shop)\n",
    "\n",
    "## so the instance obj1 assigned value overrides class \"watch \" assigned value"
   ]
  },
  {
   "cell_type": "markdown",
   "metadata": {},
   "source": [
    "#### 2.) Class Variables"
   ]
  },
  {
   "cell_type": "markdown",
   "metadata": {},
   "source": [
    "class variables can be accessed directly from class and instance both.\n",
    "\n",
    "Reference of class variable\n",
    "\n",
    "self.bonus or Employee.bonus"
   ]
  },
  {
   "cell_type": "code",
   "execution_count": 113,
   "metadata": {},
   "outputs": [
    {
     "name": "stdout",
     "output_type": "stream",
     "text": [
      "75000\n",
      "#######\n",
      "5000\n",
      "15000\n",
      "15000\n",
      "number of employees:  2\n"
     ]
    }
   ],
   "source": [
    "class Employee(object):\n",
    "    \n",
    "    ## class variable\n",
    "    \n",
    "    bonus = 15000\n",
    "    num_of_employees = 0\n",
    "    \n",
    "    def __init__(self,first,last,pay):\n",
    "        self.first = first\n",
    "        self.last = last\n",
    "        self.pay = pay\n",
    "        self.email = first + last + '@wipro.com'\n",
    "        \n",
    "        Employee.num_of_employees += 1\n",
    "        \n",
    "    def fullname(self):\n",
    "        return \"the full name is {} {}\".format(self.first,self.last)\n",
    "    \n",
    "    def hike(self):\n",
    "        self.pay = int(self.pay * 1.5)\n",
    " \n",
    "# instances of the class Employee\n",
    "\n",
    "emp1 = Employee(\"Akshay\",\"Sekar\",50000)\n",
    "emp2 = Employee('Sudip','Sinha',70000)\n",
    "\n",
    "\n",
    "emp1.hike()\n",
    "print(emp1.pay)\n",
    "\n",
    "## change emp1 bonus to 5000 and others be same as in class\n",
    "emp1.bonus = 5000\n",
    "\n",
    "print(\"#######\")\n",
    "print(emp1.bonus)\n",
    "print(Employee.bonus)\n",
    "print(emp2.bonus)\n",
    "\n",
    "print(\"number of employees: \",Employee.num_of_employees)"
   ]
  },
  {
   "cell_type": "markdown",
   "metadata": {},
   "source": [
    "Python first checks the outside assigned attributes in instance attributes/variables, if not then it checks in class variables/attributes\n",
    "\n",
    "instance -----> class"
   ]
  },
  {
   "cell_type": "markdown",
   "metadata": {},
   "source": [
    "#### class methods"
   ]
  },
  {
   "cell_type": "code",
   "execution_count": 114,
   "metadata": {},
   "outputs": [
    {
     "name": "stdout",
     "output_type": "stream",
     "text": [
      "15000\n",
      "15000\n",
      "20000\n",
      "20000\n",
      "rammohan@wipro.com\n"
     ]
    },
    {
     "data": {
      "text/plain": [
       "True"
      ]
     },
     "execution_count": 114,
     "metadata": {},
     "output_type": "execute_result"
    }
   ],
   "source": [
    "class newEmployee(object):\n",
    "    \n",
    "    bonus = 15000\n",
    "    \n",
    "    def __init__(self,first,last,pay):\n",
    "        self.first = first\n",
    "        self.last = last\n",
    "        self.pay = pay\n",
    "        self.email = first + last + '@wipro.com'\n",
    "        \n",
    "    def fullname(self):\n",
    "        return \"the full name is {} {}\".format(self.first,self.last)\n",
    "    \n",
    "    def hike(self):\n",
    "        self.pay = int(self.pay * self.bonus)\n",
    "        \n",
    "    @classmethod\n",
    "    def raise_amnt(cls,amount):\n",
    "        cls.bonus = amount\n",
    "        \n",
    "    @classmethod\n",
    "    def from_string(cls,string):\n",
    "        first,last,pay = string.split('-')\n",
    "        return cls(first,last,pay)\n",
    "    \n",
    "    @staticmethod\n",
    "    def is_workday(day):\n",
    "        if day.weekday() == 5 or day.weekday() == 6:\n",
    "            return False\n",
    "        else:\n",
    "            return True\n",
    "        \n",
    "        \n",
    "## instance of the class\n",
    "emp1 = newEmployee(\"Akshay\",\"Sekar\",50000)\n",
    "emp2 = newEmployee('Sudip','Sinha',70000)\n",
    "\n",
    "\n",
    "\n",
    "print(emp1.bonus)\n",
    "print(emp2.bonus)\n",
    "## this class method will raise amount for the entire class not just the instance\n",
    "newEmployee.raise_amnt(20000)\n",
    "print(emp1.bonus)\n",
    "print(emp2.bonus)\n",
    "\n",
    "\n",
    "## pass strings and separate first,last and pay, apply other methods as well apart from class methods\n",
    "str1  = \"ram-mohan-50000\"\n",
    "str2 = \"shyam-lal-80000\"\n",
    "emp1_instance = newEmployee.from_string(str1)\n",
    "print(emp1_instance.email)\n",
    "\n",
    "\n",
    "## use static method\n",
    "import datetime\n",
    "my_date = datetime.date(2019,6,7)\n",
    "newEmployee.is_workday(my_date)"
   ]
  },
  {
   "cell_type": "markdown",
   "metadata": {},
   "source": [
    "#### Note- static methods"
   ]
  },
  {
   "cell_type": "markdown",
   "metadata": {},
   "source": [
    "regular methods pass instance as first argument called 'self'\n",
    "\n",
    "class methods pass class as first argument called 'cls'\n",
    "\n",
    "static methods pass nothing in the argument"
   ]
  },
  {
   "cell_type": "markdown",
   "metadata": {},
   "source": [
    "## --------------------------------------"
   ]
  },
  {
   "cell_type": "markdown",
   "metadata": {},
   "source": [
    "#### Inheritance(creating subclass)"
   ]
  },
  {
   "cell_type": "markdown",
   "metadata": {},
   "source": [
    "METHOD RESOLUTION ORDER(MRO)\n",
    "\n",
    "method resolution order defines the order in which the base classes are searched when executing a method"
   ]
  },
  {
   "cell_type": "code",
   "execution_count": 115,
   "metadata": {},
   "outputs": [
    {
     "name": "stdout",
     "output_type": "stream",
     "text": [
      "DavidWarner@wipro.com\n",
      "the full name is Ben Stokes\n",
      "100000\n",
      "150000\n"
     ]
    }
   ],
   "source": [
    "class Employee(object):\n",
    "    \n",
    "    bonus = 15000\n",
    "    hike_percent = 1.5\n",
    "    \n",
    "    def __init__(self,first,last,pay):\n",
    "        self.first = first\n",
    "        self.last = last\n",
    "        self.pay = pay\n",
    "        self.email = first + last + '@wipro.com'\n",
    "        \n",
    "    def fullname(self):\n",
    "        return \"the full name is {} {}\".format(self.first,self.last)\n",
    "    \n",
    "    def hike(self):\n",
    "        self.pay = int(self.pay * self.hike_percent)\n",
    "\n",
    "## a developer is an employee as well\n",
    "class Developer(Employee):\n",
    "    pass\n",
    "\n",
    "##create instances\n",
    "emp1 = Developer(\"David\",\"Warner\",100000)\n",
    "emp2 = Developer(\"Ben\", \"Stokes\",60000)\n",
    "\n",
    "print(emp1.email)\n",
    "print(emp2.fullname())\n",
    "\n",
    "\n",
    "print(emp1.pay)\n",
    "## let us give hike of 1.5x to David Warner\n",
    "emp1.hike()\n",
    "print(emp1.pay)"
   ]
  },
  {
   "cell_type": "code",
   "execution_count": 116,
   "metadata": {},
   "outputs": [
    {
     "name": "stdout",
     "output_type": "stream",
     "text": [
      "60000\n",
      "72000\n"
     ]
    }
   ],
   "source": [
    "##Now we want to give hike of 1.2x to Ben Stokes directly from a subclass, Developer1\n",
    "\n",
    "class Developer1(Employee):\n",
    "    hike_percent = 1.2\n",
    "    \n",
    "# create instance\n",
    "emp3 = Developer1(\"Ben\", \"Stokes\", 60000)\n",
    "\n",
    "print(emp3.pay)\n",
    "emp3.hike()\n",
    "print(emp3.pay)"
   ]
  },
  {
   "cell_type": "markdown",
   "metadata": {},
   "source": [
    " #### handling attributes of child class using parent class\n",
    " \n",
    " #### using super(super calls parents and its attributes in the child class/subclass)"
   ]
  },
  {
   "cell_type": "code",
   "execution_count": 117,
   "metadata": {},
   "outputs": [
    {
     "name": "stdout",
     "output_type": "stream",
     "text": [
      "Ruby\n",
      "the full name is Jose Butler\n",
      "15000\n"
     ]
    }
   ],
   "source": [
    "## 'Developer2' subclass is for additional attributes apart form 'Employee' attributes\n",
    "\n",
    "class Developer2(Employee):\n",
    "    \n",
    "    def __init__(self,first,last,pay,prog_lang):\n",
    "        super().__init__(first,last,pay)  ## calling parent, we can use Employee.__init__(first,last,pay) as well\n",
    "        self.prog_lang = prog_lang\n",
    "        \n",
    "## create instance\n",
    "emp4 = Developer2(\"Jose\",\"Butler\",10000,\"Ruby\")\n",
    "\n",
    "print(emp4.prog_lang)\n",
    "print(emp4.fullname())\n",
    "emp4.hike()\n",
    "print(emp4.pay)"
   ]
  },
  {
   "cell_type": "code",
   "execution_count": 121,
   "metadata": {},
   "outputs": [
    {
     "name": "stdout",
     "output_type": "stream",
     "text": [
      "DonaldTrump@wipro.com\n",
      "-----> the full name is Ben Stokes\n",
      "-----> the full name is Jose Butler\n",
      "None\n"
     ]
    }
   ],
   "source": [
    "class Manager(Employee):\n",
    "    \n",
    "    def __init__(self,first,last,pay,employees=None):\n",
    "        super().__init__(first,last,pay)\n",
    "        \n",
    "        ##if argument not provided\n",
    "        if employees is None:\n",
    "            self.employees = []\n",
    "        ## if argument provided\n",
    "        else:\n",
    "            self.employees = employees\n",
    "            \n",
    "    def add_emp(self, emp):\n",
    "        if emp not in self.employees:\n",
    "            self.employees.append(emp)\n",
    "            \n",
    "    def print_emp(self):\n",
    "        for emp in self.employees:\n",
    "            print(\"----->\",emp.fullname())\n",
    "            \n",
    "## create instance\n",
    "mgr1 = Manager(\"Donald\",\"Trump\",50000,[emp3])\n",
    "print(mgr1.email)\n",
    "mgr1.add_emp(emp4)\n",
    "print(mgr1.print_emp())"
   ]
  },
  {
   "cell_type": "code",
   "execution_count": 99,
   "metadata": {},
   "outputs": [
    {
     "name": "stdout",
     "output_type": "stream",
     "text": [
      "True\n",
      "True\n",
      "False\n",
      "##########\n",
      "Help on class Developer in module __main__:\n",
      "\n",
      "class Developer(Employee)\n",
      " |  Developer(first, last, pay)\n",
      " |  \n",
      " |  Method resolution order:\n",
      " |      Developer\n",
      " |      Employee\n",
      " |      builtins.object\n",
      " |  \n",
      " |  Methods inherited from Employee:\n",
      " |  \n",
      " |  __init__(self, first, last, pay)\n",
      " |      Initialize self.  See help(type(self)) for accurate signature.\n",
      " |  \n",
      " |  fullname(self)\n",
      " |  \n",
      " |  hike(self)\n",
      " |  \n",
      " |  ----------------------------------------------------------------------\n",
      " |  Data descriptors inherited from Employee:\n",
      " |  \n",
      " |  __dict__\n",
      " |      dictionary for instance variables (if defined)\n",
      " |  \n",
      " |  __weakref__\n",
      " |      list of weak references to the object (if defined)\n",
      " |  \n",
      " |  ----------------------------------------------------------------------\n",
      " |  Data and other attributes inherited from Employee:\n",
      " |  \n",
      " |  bonus = 15000\n",
      " |  \n",
      " |  hike_percent = 1.5\n",
      "\n"
     ]
    }
   ],
   "source": [
    "print(isinstance(emp4,Employee))\n",
    "print(issubclass(Developer,Employee))\n",
    "print(issubclass(Developer,Developer1))\n",
    "print(\"##########\")\n",
    "help(Developer)"
   ]
  },
  {
   "cell_type": "code",
   "execution_count": 81,
   "metadata": {},
   "outputs": [
    {
     "data": {
      "text/plain": [
       "[__main__.Developer, __main__.Employee, object]"
      ]
     },
     "execution_count": 81,
     "metadata": {},
     "output_type": "execute_result"
    }
   ],
   "source": [
    "Developer.mro()"
   ]
  },
  {
   "cell_type": "markdown",
   "metadata": {},
   "source": [
    "#### Polymorphism with Inheritance- Method Overriding"
   ]
  },
  {
   "cell_type": "markdown",
   "metadata": {},
   "source": [
    "if methods in child class and parent class will be same then method of child class will override the method of parent class\n",
    "\n",
    "here \"fly \"  method is common in both"
   ]
  },
  {
   "cell_type": "code",
   "execution_count": 118,
   "metadata": {},
   "outputs": [
    {
     "name": "stdout",
     "output_type": "stream",
     "text": [
      "but some birds doesn't fly like -  ostrich\n",
      "None\n"
     ]
    }
   ],
   "source": [
    "class Bird(object):\n",
    "    def __init__(self,name):\n",
    "        self.name = name\n",
    "    def fly(self):\n",
    "        print(\"a bird always fly\")\n",
    "        \n",
    "class Flightless(Bird):\n",
    "    \n",
    "    def __init__(self,name):\n",
    "        super().__init__(name)\n",
    "    \n",
    "    def fly(self):\n",
    "        print(\"but some birds doesn't fly like - \",self.name)\n",
    "        \n",
    "bird1 = Flightless(\"ostrich\")\n",
    "\n",
    "print(bird1.fly())       "
   ]
  },
  {
   "cell_type": "markdown",
   "metadata": {},
   "source": [
    "#### composition vs. Inheritance"
   ]
  },
  {
   "cell_type": "markdown",
   "metadata": {},
   "source": [
    "Inheritance- takes everything\n",
    "\n",
    "composition - takes only what is needed\n",
    "\n",
    "In inheritance, a child class inherits all the methods and attributes\n",
    "\n",
    "while in composition we can explicitily choose what is inherited from the parent class.\n",
    "It makes an object of the parent class and accessed whatever method is required."
   ]
  },
  {
   "cell_type": "code",
   "execution_count": 130,
   "metadata": {},
   "outputs": [
    {
     "name": "stdout",
     "output_type": "stream",
     "text": [
      "80000\n",
      "80000\n"
     ]
    }
   ],
   "source": [
    "class Salary(object):\n",
    "    \n",
    "    def __init__(self,pay=50000,HRA=20000,bonus=10000):\n",
    "        \n",
    "        self.pay = pay\n",
    "        self.HRA = HRA\n",
    "        self.bonus = bonus\n",
    "        \n",
    "    def calculate(self):\n",
    "        return self.pay+self.HRA+self.bonus\n",
    "    \n",
    "\n",
    "class Engineer:\n",
    "    def __init__(self,name,age):\n",
    "        self.name = name\n",
    "        self.age = age\n",
    "        ## create object of salary class\n",
    "        self.obj_salary = salary()\n",
    "        \n",
    "    def total_salary(self):\n",
    "        return self.obj_salary.calculate()\n",
    "\n",
    "engineer1 = Salary()\n",
    "print(engineer1.calculate())\n",
    "\n",
    "engineer2 = Engineer(\"Elon Musk\",40)\n",
    "\n",
    "print(engineer2.total_salary())"
   ]
  },
  {
   "cell_type": "markdown",
   "metadata": {},
   "source": [
    "#### Aggregation"
   ]
  },
  {
   "cell_type": "markdown",
   "metadata": {},
   "source": [
    "In composition we create an instance of main class and pass it to subclass as a parameter. \"Has-a relationship\""
   ]
  },
  {
   "cell_type": "code",
   "execution_count": 133,
   "metadata": {},
   "outputs": [
    {
     "name": "stdout",
     "output_type": "stream",
     "text": [
      "80000\n"
     ]
    }
   ],
   "source": [
    "class Salary(object):\n",
    "    \n",
    "    def __init__(self,pay=50000,HRA=20000,bonus=10000):\n",
    "        \n",
    "        self.pay = pay\n",
    "        self.HRA = HRA\n",
    "        self.bonus = bonus\n",
    "        \n",
    "    def calculate(self):\n",
    "        return self.pay+self.HRA+self.bonus\n",
    "    \n",
    "class Worker(object):\n",
    "    \n",
    "    def __init__(self,name,age,salary):\n",
    "        self.name = name\n",
    "        self.age = age\n",
    "        self.obj_salary = salary\n",
    "        \n",
    "    def total_salary(self):\n",
    "        return self.obj_salary.calculate()\n",
    "    \n",
    "salary1 = Salary()\n",
    "worker1 = Worker(\"sohan\",25,salary1)\n",
    "\n",
    "\n",
    "print(worker1.total_salary())"
   ]
  },
  {
   "cell_type": "markdown",
   "metadata": {},
   "source": [
    "#### special/dunder methods"
   ]
  },
  {
   "cell_type": "code",
   "execution_count": null,
   "metadata": {},
   "outputs": [],
   "source": [
    "#__init__\n",
    "#__repr__\n",
    "#__str__"
   ]
  },
  {
   "cell_type": "markdown",
   "metadata": {},
   "source": [
    "repr is unambiguous representaion of object used for logging,seen by other developers\n",
    "\n",
    "str is more readble representaion used by other developers"
   ]
  },
  {
   "cell_type": "code",
   "execution_count": 140,
   "metadata": {},
   "outputs": [
    {
     "name": "stdout",
     "output_type": "stream",
     "text": [
      "James-Rabada-10000\n",
      "the pay for employee James Rabada is 10000\n",
      "Stuart-Brad-50000\n",
      "60000\n",
      "60000\n",
      "29\n"
     ]
    }
   ],
   "source": [
    "class Employee(object):\n",
    "    \n",
    "    hike_percent = 1.5\n",
    "    \n",
    "    def __init__(self,first,last,pay):\n",
    "        self.first = first\n",
    "        self.last = last\n",
    "        self.pay = pay\n",
    "        self.email = first + last + '@wipro.com'\n",
    "        \n",
    "    def fullname(self):\n",
    "        return \"the full name is {} {}\".format(self.first,self.last)\n",
    "    \n",
    "    def hike(self):\n",
    "        self.pay = int(self.pay * self.hike_percent)\n",
    "        \n",
    "    def __repr__(self):\n",
    "        return \"the pay for employee {} {} is {}\".format(self.first,self.last, self.pay)\n",
    "    \n",
    "    def __str__(self):\n",
    "        return \"{}-{}-{}\".format(self.first,self.last, self.pay)\n",
    "    \n",
    "    def __add__(self,other):\n",
    "        return self.pay + other.pay\n",
    "    \n",
    "    def __len__(self):\n",
    "        return len(self.fullname())\n",
    "\n",
    "##create instance\n",
    "emp5 = Employee(\"James\",\"Rabada\",10000)\n",
    "emp6 = Employee(\"Stuart\",\"Brad\",50000)\n",
    "\n",
    "print(emp5)\n",
    "print(repr(emp5))    ## same like emp5.__repr__()\n",
    "print(str(emp6))\n",
    "\n",
    "\n",
    "print(emp5+emp6)\n",
    "print(emp5.__add__(emp6))\n",
    "\n",
    "print(len(emp5))"
   ]
  },
  {
   "cell_type": "code",
   "execution_count": 137,
   "metadata": {},
   "outputs": [
    {
     "name": "stdout",
     "output_type": "stream",
     "text": [
      "12\n"
     ]
    },
    {
     "data": {
      "text/plain": [
       "12"
      ]
     },
     "execution_count": 137,
     "metadata": {},
     "output_type": "execute_result"
    }
   ],
   "source": [
    "print(len('Suresh Raina'))\n",
    "('Suresh Raina').__len__()"
   ]
  },
  {
   "cell_type": "markdown",
   "metadata": {},
   "source": [
    "#### property Decorators"
   ]
  },
  {
   "cell_type": "markdown",
   "metadata": {},
   "source": [
    "getter,setter,deleters"
   ]
  },
  {
   "cell_type": "code",
   "execution_count": 186,
   "metadata": {},
   "outputs": [],
   "source": [
    "class Employee(object):\n",
    "    \n",
    "    hike_percent = 1.5\n",
    "    \n",
    "    def __init__(self,first,last,pay):\n",
    "        self.first = first\n",
    "        self.last = last\n",
    "        self.pay = pay\n",
    "    \n",
    "    @property\n",
    "    def email(self):\n",
    "        return(self.first + self.last + '@wipro.com')\n",
    "    \n",
    "    @property\n",
    "    def fullname(self):\n",
    "        return \"{} {}\".format(self.first,self.last)\n",
    "    \n",
    "    def hike(self):\n",
    "        self.pay = int(self.pay * self.hike_percent)\n",
    "        \n",
    "    @fullname.setter\n",
    "    def fullname(self,name):\n",
    "        first,last = name.split(' ')\n",
    "        self.first = first\n",
    "        self.last = last\n",
    "        \n",
    "    @fullname.deleter\n",
    "    def fullname(self):\n",
    "        print('deleted!')\n",
    "        self.first = None\n",
    "        self.last = None\n",
    "    \n",
    "    \n",
    "emp7 = Employee(\"Andrew\",\"Russel\",10000)"
   ]
  },
  {
   "cell_type": "code",
   "execution_count": 187,
   "metadata": {},
   "outputs": [
    {
     "name": "stdout",
     "output_type": "stream",
     "text": [
      "Andrew\n",
      "AndrewRussel@wipro.com\n",
      "Andrew Russel\n",
      "15000\n"
     ]
    }
   ],
   "source": [
    "## property decorators behave like attributes unlike regular methods\n",
    "print(emp7.first)\n",
    "print(emp7.email)\n",
    "print(emp7.fullname)\n",
    "emp7.hike()\n",
    "print(emp7.pay)"
   ]
  },
  {
   "cell_type": "code",
   "execution_count": 168,
   "metadata": {},
   "outputs": [
    {
     "ename": "AttributeError",
     "evalue": "can't set attribute",
     "output_type": "error",
     "traceback": [
      "\u001b[1;31m---------------------------------------------------------------------------\u001b[0m",
      "\u001b[1;31mAttributeError\u001b[0m                            Traceback (most recent call last)",
      "\u001b[1;32m<ipython-input-168-0fae9b191b6c>\u001b[0m in \u001b[0;36m<module>\u001b[1;34m\u001b[0m\n\u001b[0;32m      1\u001b[0m \u001b[1;31m## suppose I want to change full name?\u001b[0m\u001b[1;33m\u001b[0m\u001b[1;33m\u001b[0m\u001b[1;33m\u001b[0m\u001b[0m\n\u001b[0;32m      2\u001b[0m \u001b[1;33m\u001b[0m\u001b[0m\n\u001b[1;32m----> 3\u001b[1;33m \u001b[0memp7\u001b[0m\u001b[1;33m.\u001b[0m\u001b[0mfullname\u001b[0m \u001b[1;33m=\u001b[0m \u001b[1;34m'Ken Williamson'\u001b[0m\u001b[1;33m\u001b[0m\u001b[1;33m\u001b[0m\u001b[0m\n\u001b[0m\u001b[0;32m      4\u001b[0m \u001b[1;33m\u001b[0m\u001b[0m\n\u001b[0;32m      5\u001b[0m \u001b[1;31m#so we need setters for this\u001b[0m\u001b[1;33m\u001b[0m\u001b[1;33m\u001b[0m\u001b[1;33m\u001b[0m\u001b[0m\n",
      "\u001b[1;31mAttributeError\u001b[0m: can't set attribute"
     ]
    }
   ],
   "source": [
    "## suppose I want to change full name?\n",
    "\n",
    "emp7.fullname = 'Ken Williamson'\n",
    "\n",
    "#so we need setters for this\n"
   ]
  },
  {
   "cell_type": "code",
   "execution_count": 188,
   "metadata": {},
   "outputs": [
    {
     "name": "stdout",
     "output_type": "stream",
     "text": [
      "Ken Williamson\n",
      "KenWilliamson@wipro.com\n",
      "15000\n"
     ]
    }
   ],
   "source": [
    "emp7.fullname = 'Ken Williamson'\n",
    "print(emp7.fullname)\n",
    "print(emp7.email)\n",
    "print(emp7.pay)"
   ]
  },
  {
   "cell_type": "code",
   "execution_count": 189,
   "metadata": {},
   "outputs": [
    {
     "name": "stdout",
     "output_type": "stream",
     "text": [
      "Ken Williamson\n",
      "deleted!\n",
      "None None\n"
     ]
    }
   ],
   "source": [
    "print(emp7.fullname)\n",
    "\n",
    "del emp7.fullname\n",
    "print(emp7.fullname)"
   ]
  },
  {
   "cell_type": "markdown",
   "metadata": {},
   "source": [
    "### Another Example - property() method"
   ]
  },
  {
   "cell_type": "code",
   "execution_count": 108,
   "metadata": {},
   "outputs": [
    {
     "name": "stdout",
     "output_type": "stream",
     "text": [
      "Spanish\n"
     ]
    }
   ],
   "source": [
    "# get and set a property from outside the class\n",
    "class Song(object):\n",
    "    \n",
    "    def __init__(self,name,language,duration):\n",
    "        self.name = name\n",
    "        self._language = language\n",
    "        self.duration = duration\n",
    "        \n",
    "         \n",
    "song1 = Song(\"trance\",\"English\",5)\n",
    "song1.language = \"Spanish\"\n",
    "print(song1.language)"
   ]
  },
  {
   "cell_type": "markdown",
   "metadata": {},
   "source": [
    "### public and private attributes / Encapsulation"
   ]
  },
  {
   "cell_type": "code",
   "execution_count": 75,
   "metadata": {},
   "outputs": [
    {
     "name": "stdout",
     "output_type": "stream",
     "text": [
      "Tom Bran\n",
      "78965478954\n"
     ]
    }
   ],
   "source": [
    "class Bank(object):\n",
    "    \n",
    "    def __init__(self,name,acc_num,password):\n",
    "        self.name = name\n",
    "        self._acc_num = acc_num\n",
    "        self.__password = password    ## private attribute\n",
    "        \n",
    "    def getPass(self):\n",
    "        print(self.__password)\n",
    "    \n",
    "    def setPass(self,pwd):\n",
    "        self.__password = pwd\n",
    "        \n",
    "        \n",
    "customer1 = Bank(\"Tom Bran\",\"78965478954\",\"love!123\")\n",
    "\n",
    "print(customer1.name)\n",
    "print(customer1._acc_num)\n"
   ]
  },
  {
   "cell_type": "markdown",
   "metadata": {},
   "source": [
    "data mangling"
   ]
  },
  {
   "cell_type": "code",
   "execution_count": 66,
   "metadata": {},
   "outputs": [
    {
     "ename": "AttributeError",
     "evalue": "'Bank' object has no attribute '__password'",
     "output_type": "error",
     "traceback": [
      "\u001b[1;31m---------------------------------------------------------------------------\u001b[0m",
      "\u001b[1;31mAttributeError\u001b[0m                            Traceback (most recent call last)",
      "\u001b[1;32m<ipython-input-66-149ee223b9a2>\u001b[0m in \u001b[0;36m<module>\u001b[1;34m\u001b[0m\n\u001b[1;32m----> 1\u001b[1;33m \u001b[0mprint\u001b[0m\u001b[1;33m(\u001b[0m\u001b[0mcustomer1\u001b[0m\u001b[1;33m.\u001b[0m\u001b[0m__password\u001b[0m\u001b[1;33m)\u001b[0m\u001b[1;33m\u001b[0m\u001b[1;33m\u001b[0m\u001b[0m\n\u001b[0m",
      "\u001b[1;31mAttributeError\u001b[0m: 'Bank' object has no attribute '__password'"
     ]
    }
   ],
   "source": [
    "print(customer1.__password)"
   ]
  },
  {
   "cell_type": "code",
   "execution_count": 69,
   "metadata": {},
   "outputs": [
    {
     "name": "stdout",
     "output_type": "stream",
     "text": [
      "jhsabgshahja\n"
     ]
    }
   ],
   "source": [
    "## shortcut without using get and set mnethod\n",
    "print(customer1._Bank__password)"
   ]
  },
  {
   "cell_type": "code",
   "execution_count": 71,
   "metadata": {},
   "outputs": [
    {
     "name": "stdout",
     "output_type": "stream",
     "text": [
      "jhsabgshahja\n",
      "None\n",
      "jhsabgshahja\n",
      "None\n"
     ]
    }
   ],
   "source": [
    "## how to acess private attributes\n",
    "print(customer1.getPass())\n",
    "customer1.setPass(\"jhsabgshahja\")\n",
    "print(customer1.getPass())"
   ]
  },
  {
   "cell_type": "markdown",
   "metadata": {},
   "source": [
    "### Polymorphism with class"
   ]
  },
  {
   "cell_type": "markdown",
   "metadata": {},
   "source": [
    "polymorphism means same function name (but different signatures) being uses for different types"
   ]
  },
  {
   "cell_type": "code",
   "execution_count": 134,
   "metadata": {},
   "outputs": [
    {
     "name": "stdout",
     "output_type": "stream",
     "text": [
      "5\n",
      "4\n"
     ]
    }
   ],
   "source": [
    "print(len(\"ADrty\"))\n",
    "print(len(['lk',5,7,9]))"
   ]
  },
  {
   "cell_type": "code",
   "execution_count": 137,
   "metadata": {},
   "outputs": [
    {
     "name": "stdout",
     "output_type": "stream",
     "text": [
      "New Delhi is the capital of India.\n",
      "Washington, D.C. is the capital of USA.\n"
     ]
    },
    {
     "data": {
      "text/plain": [
       "'\\nfor country in (obj_ind, obj_usa): \\n\\tcountry.capital() \\n\\tcountry.language() \\n\\tcountry.type() \\n'"
      ]
     },
     "execution_count": 137,
     "metadata": {},
     "output_type": "execute_result"
    }
   ],
   "source": [
    "class India(): \n",
    "\tdef capital(self): \n",
    "\t\tprint(\"New Delhi is the capital of India.\") \n",
    "\n",
    "\tdef language(self): \n",
    "\t\tprint(\"Hindi the primary language of India.\") \n",
    "\n",
    "\tdef type(self): \n",
    "\t\tprint(\"India is a developing country.\") \n",
    "\n",
    "class USA(): \n",
    "\tdef capital(self): \n",
    "\t\tprint(\"Washington, D.C. is the capital of USA.\") \n",
    "\n",
    "\tdef language(self): \n",
    "\t\tprint(\"English is the primary language of USA.\") \n",
    "\n",
    "\tdef type(self): \n",
    "\t\tprint(\"USA is a developed country.\") \n",
    "\n",
    "obj_ind = India() \n",
    "obj_usa = USA() \n",
    "\n",
    "obj_ind.capital()  ## the object of respective class will use the respective class method\n",
    "obj_usa.capital()\n",
    "\n",
    "\"\"\"\n",
    "for country in (obj_ind, obj_usa): \n",
    "\tcountry.capital() \n",
    "\tcountry.language() \n",
    "\tcountry.type() \n",
    "\"\"\""
   ]
  },
  {
   "cell_type": "code",
   "execution_count": null,
   "metadata": {},
   "outputs": [],
   "source": []
  }
 ],
 "metadata": {
  "kernelspec": {
   "display_name": "Python 3",
   "language": "python",
   "name": "python3"
  },
  "language_info": {
   "codemirror_mode": {
    "name": "ipython",
    "version": 3
   },
   "file_extension": ".py",
   "mimetype": "text/x-python",
   "name": "python",
   "nbconvert_exporter": "python",
   "pygments_lexer": "ipython3",
   "version": "3.7.1"
  }
 },
 "nbformat": 4,
 "nbformat_minor": 2
}
